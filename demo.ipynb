{
 "cells": [
  {
   "attachments": {},
   "cell_type": "markdown",
   "metadata": {},
   "source": [
    "O jogo da forca é um entretenimento infantil comum, que consiste na escolha de uma palavra secreta. Os jogadores sabem a quantidade de letras na palavra, escolhem letras do alfabeto e onde há a respectiva letra, é marcado, para ir montando a palavra aos poucos. Caso a letra não esteja presente na palavra, o jogador perde uma vida. Ganha o jogo caso o jogador consiga descobrir a palavra completa sem perder todas as vidas. \n",
    "\n",
    "Nesse projeto, foi criado um pequeno código para gerar um jogo da forca com as palavras presentes no dicionário sem acentos do ime (disponível em https://www.ime.usp.br/~pf/dicios/br-sem-acentos.txt), com 5 vidas, presente no arquivo “jogoDeForca.py”. \n",
    "\n",
    "Além disso, foi desenvolvido um agente para jogar o jogo da forca. A estratégia do agente consiste em selecionar sempre a letra que aparece em mais palavras. Após cada jogada é realizada a filtragem das palavras possíveis. Caso não a letra não esteja presente, todas as palavras com aquela letra são retiradas. Caso contrário, são selecionadas todas as palavras que tenham as letras nas posições descobertas. Ele realiza chute de letras até completar a palavra ou perder as 5 vidas. \n",
    "\n",
    "Abaixo pode ser visualizado o passo a passo do algoritmo:\n"
   ]
  },
  {
   "cell_type": "code",
   "execution_count": null,
   "metadata": {},
   "outputs": [],
   "source": [
    "from jogoDeForca import JogoDeForca"
   ]
  },
  {
   "cell_type": "code",
   "execution_count": null,
   "metadata": {},
   "outputs": [],
   "source": [
    "jogo = JogoDeForca()\n",
    "print(jogo.novo_jogo())\n",
    "print(jogo.palavra)\n",
    "print(jogo.vidas)\n",
    "print(jogo.tentar_letra('a'))"
   ]
  },
  {
   "cell_type": "code",
   "execution_count": null,
   "metadata": {},
   "outputs": [],
   "source": [
    "jogo = JogoDeForca()\n",
    "tamanho_palavra = jogo.novo_jogo()\n",
    "print(f\"A palavra tem {tamanho_palavra} letras.\")\n"
   ]
  },
  {
   "cell_type": "code",
   "execution_count": null,
   "metadata": {},
   "outputs": [],
   "source": [
    "def calcular_frequencia_letras(palavras, letras_tentadas):\n",
    "    frequencia = {}\n",
    "    for palavra in palavras:\n",
    "        for letra in palavra:\n",
    "            if letra not in letras_tentadas:\n",
    "                if letra in frequencia:\n",
    "                    frequencia[letra] += 1\n",
    "                else:\n",
    "                    frequencia[letra] = 1\n",
    "    return frequencia\n",
    "\n",
    "def escolher_letra(frequencia):\n",
    "    letra_mais_frequente = max(frequencia, key=frequencia.get)\n",
    "    return letra_mais_frequente\n"
   ]
  },
  {
   "cell_type": "code",
   "execution_count": null,
   "metadata": {},
   "outputs": [],
   "source": [
    "def exibir_estado(palavra_parcial, vidas):\n",
    "    print(\"Palavra:\", \" \".join(palavra_parcial))\n",
    "    print(\"Vidas restantes:\", vidas)\n"
   ]
  },
  {
   "cell_type": "code",
   "execution_count": null,
   "metadata": {},
   "outputs": [],
   "source": [
    "def palavra_compatible(palavra, palavra_parcial, tentativa):\n",
    "    if len(palavra) != len(palavra_parcial):\n",
    "        return False\n",
    "\n",
    "    for idx, letra in enumerate(palavra_parcial):\n",
    "        if letra == \"_\" and palavra[idx] == tentativa:\n",
    "            return False\n",
    "        if letra != \"_\" and palavra[idx] != letra:\n",
    "            return False\n",
    "    return True\n",
    "\n",
    "\n",
    "def jogar(jogo):\n",
    "    tamanho_palavra = jogo.novo_jogo()\n",
    "    palavra_parcial = [\"_\" for _ in range(tamanho_palavra)]\n",
    "    vidas = jogo.vidas\n",
    "    palavras_possiveis = jogo.content.copy()\n",
    "    letras_tentadas = set()\n",
    "\n",
    "    while \"_\" in palavra_parcial and vidas > 0:    \n",
    "        frequencia = calcular_frequencia_letras(palavras_possiveis, letras_tentadas)\n",
    "        tentativa = escolher_letra(frequencia)\n",
    "        letras_tentadas.add(tentativa)\n",
    "\n",
    "        indices = jogo.tentar_letra(tentativa)\n",
    "        if indices:\n",
    "            for idx in indices:\n",
    "                palavra_parcial[idx] = tentativa\n",
    "            palavras_possiveis = [palavra for palavra in palavras_possiveis if palavra_compatible(palavra, palavra_parcial, tentativa)]\n",
    "        else:\n",
    "            palavras_possiveis = [palavra for palavra in palavras_possiveis if tentativa not in palavra]\n",
    "\n",
    "        vidas = jogo.vidas\n",
    "    return vidas\n",
    "\n",
    "\n",
    "\n",
    "\n"
   ]
  },
  {
   "cell_type": "code",
   "execution_count": null,
   "metadata": {},
   "outputs": [],
   "source": [
    "print(jogo.palavra)\n"
   ]
  },
  {
   "cell_type": "code",
   "execution_count": null,
   "metadata": {},
   "outputs": [],
   "source": [
    "import matplotlib.pyplot as plt\n",
    "resultados = []\n",
    "n_jogos = 1000\n",
    "\n",
    "for _ in range(n_jogos):\n",
    "    vidas_restantes = jogar(jogo)\n",
    "    resultados.append(vidas_restantes)\n",
    "\n",
    "print(f\"Total de jogos: {n_jogos}\")\n",
    "print(f\"Jogos ganhos: {sum([1 for vidas in resultados if vidas > 0])}\")\n",
    "print(f\"Jogos perdidos: {sum([1 for vidas in resultados if vidas == 0])}\")\n",
    "\n",
    "plt.hist(resultados, bins=range(0, 7), align='left', rwidth=0.8)\n",
    "plt.xlabel('Vidas restantes')\n",
    "plt.ylabel('Frequência')\n",
    "plt.title('Histograma das vidas restantes após 100 jogos')\n",
    "plt.xticks(range(0, 6))\n",
    "plt.show()\n"
   ]
  }
 ],
 "metadata": {
  "kernelspec": {
   "display_name": "Python 3",
   "language": "python",
   "name": "python3"
  },
  "language_info": {
   "codemirror_mode": {
    "name": "ipython",
    "version": 3
   },
   "file_extension": ".py",
   "mimetype": "text/x-python",
   "name": "python",
   "nbconvert_exporter": "python",
   "pygments_lexer": "ipython3",
   "version": "3.8.10"
  },
  "orig_nbformat": 4
 },
 "nbformat": 4,
 "nbformat_minor": 2
}
