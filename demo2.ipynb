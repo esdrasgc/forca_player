{
 "cells": [
  {
   "cell_type": "code",
   "execution_count": null,
   "metadata": {},
   "outputs": [],
   "source": []
  },
  {
   "cell_type": "code",
   "execution_count": 17,
   "metadata": {},
   "outputs": [],
   "source": [
    "from jogoDeForca import JogoDeForca"
   ]
  },
  {
   "cell_type": "code",
   "execution_count": 18,
   "metadata": {},
   "outputs": [],
   "source": [
    "def calcular_presenca_nas_palavras(letra, palavras):\n",
    "    qtd_palavras_com_a_letra = 0\n",
    "    for palavra in palavras:\n",
    "        if letra in palavra:\n",
    "            qtd_palavras_com_a_letra+=1\n",
    "    return qtd_palavras_com_a_letra\n",
    "\n",
    "def escolher_letra_em_mais_palavras(letras_restantes, palavras):\n",
    "    qtd_max = 0\n",
    "    letra_max = ''\n",
    "    for letra in letras_restantes:\n",
    "        if qtd_max < calcular_presenca_nas_palavras(letra, palavras):\n",
    "            letra_max = letra\n",
    "    return letra_max"
   ]
  },
  {
   "cell_type": "code",
   "execution_count": null,
   "metadata": {},
   "outputs": [],
   "source": [
    "def exibir_estado(palavra_parcial, vidas):\n",
    "    print(\"Palavra:\", \" \".join(palavra_parcial))\n",
    "    print(\"Vidas restantes:\", vidas)\n"
   ]
  },
  {
   "cell_type": "code",
   "execution_count": 19,
   "metadata": {},
   "outputs": [],
   "source": [
    "def palavra_compatible(palavra, palavra_parcial, tentativa):\n",
    "    if len(palavra) != len(palavra_parcial):\n",
    "        return False\n",
    "\n",
    "    for idx, letra in enumerate(palavra_parcial):\n",
    "        if letra == \"_\" and palavra[idx] == tentativa:\n",
    "            return False\n",
    "        if letra != \"_\" and palavra[idx] != letra:\n",
    "            return False\n",
    "    return True\n",
    "\n",
    "def jogar(jogo):\n",
    "    tamanho_palavra = jogo.novo_jogo()\n",
    "    palavra_parcial = [\"_\" for _ in range(tamanho_palavra)]\n",
    "    vidas = jogo.vidas\n",
    "    palavras_possiveis = jogo.content.copy()\n",
    "    ## create a set with all letters\n",
    "    letras_restantes = {'a', 'b', 'c', 'd', 'e', 'f', 'g', 'h', 'i', 'j', 'k', 'l', 'm','n','o','p','q','r','s','t','u','v','w','x','y','z'}\n",
    "\n",
    "    while \"_\" in palavra_parcial and vidas > 0:    \n",
    "        tentativa = escolher_letra_em_mais_palavras(letras_restantes, palavras_possiveis)\n",
    "        letras_restantes.remove(tentativa)\n",
    "\n",
    "        indices = jogo.tentar_letra(tentativa)\n",
    "        if indices:\n",
    "            for idx in indices:\n",
    "                palavra_parcial[idx] = tentativa\n",
    "            palavras_possiveis = [palavra for palavra in palavras_possiveis if palavra_compatible(palavra, palavra_parcial, tentativa)]\n",
    "        else:\n",
    "            palavras_possiveis = [palavra for palavra in palavras_possiveis if tentativa not in palavra]\n",
    "\n",
    "        vidas = jogo.vidas\n",
    "    return vidas"
   ]
  },
  {
   "cell_type": "code",
   "execution_count": 20,
   "metadata": {},
   "outputs": [
    {
     "name": "stdout",
     "output_type": "stream",
     "text": [
      "Total de jogos: 1000\n",
      "Jogos ganhos: 483\n",
      "Jogos perdidos: 517\n"
     ]
    },
    {
     "data": {
      "image/png": "[encoded data removed]",
      "text/plain": [
       "<Figure size 640x480 with 1 Axes>"
      ]
     },
     "metadata": {},
     "output_type": "display_data"
    }
   ],
   "source": [
    "import matplotlib.pyplot as plt\n",
    "resultados = []\n",
    "n_jogos = 1000\n",
    "jogo = JogoDeForca()\n",
    "for _ in range(n_jogos):\n",
    "    vidas_restantes = jogar(jogo)\n",
    "    resultados.append(vidas_restantes)\n",
    "\n",
    "print(f\"Total de jogos: {n_jogos}\")\n",
    "print(f\"Jogos ganhos: {sum([1 for vidas in resultados if vidas > 0])}\")\n",
    "print(f\"Jogos perdidos: {sum([1 for vidas in resultados if vidas == 0])}\")\n",
    "\n",
    "plt.hist(resultados, bins=range(0, 7), align='left', rwidth=0.8)\n",
    "plt.xlabel('Vidas restantes')\n",
    "plt.ylabel('Frequência')\n",
    "plt.title('Histograma das vidas restantes após 100 jogos')\n",
    "plt.xticks(range(0, 6))\n",
    "plt.show()\n"
   ]
  }
 ],
 "metadata": {
  "kernelspec": {
   "display_name": "Python 3",
   "language": "python",
   "name": "python3"
  },
  "language_info": {
   "codemirror_mode": {
    "name": "ipython",
    "version": 3
   },
   "file_extension": ".py",
   "mimetype": "text/x-python",
   "name": "python",
   "nbconvert_exporter": "python",
   "pygments_lexer": "ipython3",
   "version": "3.8.10"
  },
  "orig_nbformat": 4
 },
 "nbformat": 4,
 "nbformat_minor": 2
}
