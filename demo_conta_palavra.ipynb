{
 "cells": [
  {
   "attachments": {},
   "cell_type": "markdown",
   "metadata": {},
   "source": [
    "Primeiro é realizado o import da classe JogoDaForca, seguindo as especificações descritas\n"
   ]
  },
  {
   "cell_type": "code",
   "execution_count": 1,
   "metadata": {},
   "outputs": [],
   "source": [
    "from jogoDeForca import JogoDeForca"
   ]
  },
  {
   "cell_type": "code",
   "execution_count": 2,
   "metadata": {},
   "outputs": [],
   "source": [
    "def calcular_frequencia_letras(palavras, letras_tentadas):\n",
    "    frequencia = {}\n",
    "    letras_alfabeto = 'abcdefghijklmnopqrstuvwxyzç'\n",
    "    for palavra in palavras:\n",
    "        for letra in letras_alfabeto:\n",
    "            if letra in palavra:\n",
    "                if letra not in letras_tentadas:\n",
    "                    if letra in frequencia:\n",
    "                        frequencia[letra] += 1\n",
    "                    else:\n",
    "                        frequencia[letra] = 1\n",
    "    return frequencia\n",
    "\n",
    "def escolher_letra(frequencia):\n",
    "    letra_mais_frequente = max(frequencia, key=frequencia.get)\n",
    "    return letra_mais_frequente\n"
   ]
  },
  {
   "cell_type": "code",
   "execution_count": 3,
   "metadata": {},
   "outputs": [],
   "source": [
    "## Função que verifica se uma palavra é compatível com a palavra parcial e a tentativa\n",
    "def palavra_compatible(palavra, palavra_parcial, tentativa):\n",
    "    if len(palavra) != len(palavra_parcial): ## se o tamanho da palavra for diferente do tamanho da palavra parcial,\n",
    "                                             ## deve ser descartada\n",
    "        return False\n",
    "\n",
    "    for idx, letra in enumerate(palavra_parcial): \n",
    "        ## verifica se a palavra não tem a letra tentada numa posição onde ela aparece na palavra parcial\n",
    "        if letra == \"_\" and palavra[idx] == tentativa: \n",
    "            return False\n",
    "        \n",
    "        ## verifica se a palavra tem uma letra diferente da letra tentada numa posição onde ela aparece na palavra parcial\n",
    "        if letra != \"_\" and palavra[idx] != letra:\n",
    "            return False\n",
    "    return True\n",
    "\n",
    "\n",
    "def jogar(jogo):\n",
    "    tamanho_palavra = jogo.novo_jogo() ## Inicia um novo jogo\n",
    "    palavra_parcial = [\"_\" for _ in range(tamanho_palavra)] ## Inicia a palavra parcial com \"_\" para cada letra\n",
    "    vidas = jogo.vidas ## recupera o número de vidas\n",
    "    palavras_possiveis = jogo.content.copy() ## recupera a lista de palavras possíveis, \n",
    "                                            ## que é igual a lista de palavras do dicionario do ime-usp\n",
    "    letras_tentadas = set() ## inicia o conjunto de letras tentadas\n",
    "\n",
    "    while \"_\" in palavra_parcial and vidas > 0:  ## enquanto a palavra parcial tiver \"_\" e vidas > 0\n",
    "        frequencia = calcular_frequencia_letras(palavras_possiveis, letras_tentadas) ## calcula a frequencia das letras\n",
    "        tentativa = escolher_letra(frequencia) ## escolhe a letra mais frequente\n",
    "        letras_tentadas.add(tentativa) ## adiciona a letra escolhida ao conjunto de letras tentadas\n",
    "\n",
    "        indices = jogo.tentar_letra(tentativa) ## tenta a letra escolhida e recupera os indices onde ela aparece\n",
    "        if indices: ## se a letra estiver na palavra\n",
    "            for idx in indices: ## atualiza a palavra parcial\n",
    "                palavra_parcial[idx] = tentativa\n",
    "            ## atualiza a lista de palavras possíveis\n",
    "            palavras_possiveis = [palavra for palavra in palavras_possiveis if palavra_compatible(palavra, palavra_parcial, tentativa)]\n",
    "        else:\n",
    "            ## atualiza a lista de palavras possíveis\n",
    "            palavras_possiveis = [palavra for palavra in palavras_possiveis if tentativa not in palavra]\n",
    "\n",
    "        ## atualiza o número de vidas\n",
    "        vidas = jogo.vidas\n",
    "\n",
    "    return vidas\n"
   ]
  },
  {
   "cell_type": "code",
   "execution_count": 6,
   "metadata": {},
   "outputs": [
    {
     "name": "stdout",
     "output_type": "stream",
     "text": [
      "Total de jogos: 1000\n",
      "Jogos ganhos: 976\n",
      "Jogos perdidos: 24\n",
      "Acurácia: 97.60%\n"
     ]
    },
    {
     "data": {
      "image/png": "[encoded data removed]",
      "text/plain": [
       "<Figure size 640x480 with 1 Axes>"
      ]
     },
     "metadata": {},
     "output_type": "display_data"
    }
   ],
   "source": [
    "import matplotlib.pyplot as plt\n",
    "resultados = []\n",
    "n_jogos = 1000\n",
    "jogo = JogoDeForca()\n",
    "\n",
    "for _ in range(n_jogos):\n",
    "    vidas_restantes = jogar(jogo)\n",
    "    resultados.append(vidas_restantes)\n",
    "\n",
    "qtd_jogos_ganhos = sum([1 for vidas in resultados if vidas > 0])\n",
    "print(f\"Total de jogos: {n_jogos}\")\n",
    "print(f\"Jogos ganhos: {qtd_jogos_ganhos}\")\n",
    "print(f\"Jogos perdidos: {sum([1 for vidas in resultados if vidas == 0])}\")\n",
    "print(f\"Acurácia: {qtd_jogos_ganhos/n_jogos * 100:.2f}%\")\n",
    "\n",
    "plt.hist(resultados, bins=range(0, 7), align='left', rwidth=0.8)\n",
    "plt.xlabel('Vidas restantes')\n",
    "plt.ylabel('Frequência')\n",
    "plt.title('Histograma das vidas restantes após 1000 jogos')\n",
    "plt.xticks(range(0, 6))\n",
    "plt.show()\n"
   ]
  },
  {
   "cell_type": "code",
   "execution_count": 5,
   "metadata": {},
   "outputs": [
    {
     "name": "stdout",
     "output_type": "stream",
     "text": [
      "Letra:  a\n",
      "Letra:  s\n",
      "Letra:  o\n",
      "Letra:  e\n",
      "Letra:  r\n",
      "Letra:  l\n",
      "Letra:  c\n",
      "Letra:  v\n",
      "Letra:  d\n",
      "0\n"
     ]
    }
   ],
   "source": [
    "from jogoDeForcaAnalise import JogoDeForcaParaAnaliseDeErro\n",
    "\n",
    "jogoAnalise = JogoDeForcaParaAnaliseDeErro()\n",
    "vidas = jogar(jogoAnalise)\n",
    "print(vidas)"
   ]
  }
 ],
 "metadata": {
  "kernelspec": {
   "display_name": "Python 3",
   "language": "python",
   "name": "python3"
  },
  "language_info": {
   "codemirror_mode": {
    "name": "ipython",
    "version": 3
   },
   "file_extension": ".py",
   "mimetype": "text/x-python",
   "name": "python",
   "nbconvert_exporter": "python",
   "pygments_lexer": "ipython3",
   "version": "3.8.10"
  },
  "orig_nbformat": 4
 },
 "nbformat": 4,
 "nbformat_minor": 2
}
